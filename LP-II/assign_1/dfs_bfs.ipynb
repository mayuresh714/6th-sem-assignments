{
 "cells": [
  {
   "cell_type": "code",
   "execution_count": 66,
   "metadata": {},
   "outputs": [],
   "source": [
    "class graph:\n",
    "\tdef __init__(self):\n",
    "\t\tself.graph_dict =  {}\n",
    "\t\t \n",
    "\tdef addEdge(self,u,v):\n",
    "\t\tif u not in self.graph_dict:\n",
    "\t\t\tself.graph_dict[u] = [v]\n",
    "\t\telse:\n",
    "\t\t\tself.graph_dict[u].append(v)\n",
    "\t\t\t\n",
    "\t\tif v not in self.graph_dict:\n",
    "\t\t\tself.graph_dict[v] = []\n",
    "\t\t\t\n",
    "\t\t#print(self.graph_dict)\n",
    "\n",
    "\tdef BFS(self, s):\n",
    "\t\t \n",
    "\t\tqueue         = [s]\t\t \n",
    "\t\tvisited_nodes = [s]  \n",
    "\t\t\n",
    "\t\twhile queue:\n",
    "\t\t\ts = queue.pop(0)\n",
    "\t\t\tprint (s, end = \" \")\n",
    "\t\t\tfor i in self.graph_dict[s]:\n",
    "\t\t\t\tif i not in visited_nodes: \n",
    "\t\t\t\t\tqueue.append(i)\n",
    "\t\t\t\t\tvisited_nodes.append([i])  \n",
    "\n",
    "\tdef DFS(self, s):\n",
    "\t\t\n",
    "\t\tstack = []\n",
    "\t\tstack.append(s)\n",
    "\t\tvisited_nodes = [s]\n",
    "\n",
    "\t\twhile stack:\n",
    "\t\t\ts = stack.pop()\n",
    "\t\t\tprint (s, end = \" \")\n",
    "\t\t\tfor i in self.graph_dict[s]:\n",
    "\t\t\t\tif i not in visited_nodes:\n",
    "\t\t\t\t\tstack.append(i)\n",
    "\t\t\t\t\tvisited_nodes += [i] \n",
    "\n",
    "\n",
    "g = graph()\n",
    "g.addEdge(\"a\",\"b\")\t\n",
    "g.addEdge(\"a\",\"c\")\n",
    "g.addEdge('a','m')\n",
    "g.addEdge('m','k')\n",
    "g.addEdge(\"c\",\"g\")\n",
    "g.addEdge(\"c\",\"e\")\n",
    "g.addEdge(\"c\",\"f\")\n",
    "g.addEdge(\"g\",\"h\")\n",
    "g.addEdge(\"g\",\"i\")\n",
    "g.addEdge(\"b\",\"d\")"
   ]
  },
  {
   "cell_type": "code",
   "execution_count": 69,
   "metadata": {},
   "outputs": [],
   "source": [
    "#              a\n",
    "#          /   \\   \\\n",
    "#         c     b   m\n",
    "#      /  |  \\    \\   \\ \n",
    "#     g   e   f    d    k\n",
    "#    / \\\n",
    "#   h   i"
   ]
  },
  {
   "cell_type": "code",
   "execution_count": 70,
   "metadata": {},
   "outputs": [
    {
     "name": "stdout",
     "output_type": "stream",
     "text": [
      "a b c m d g e f k h i "
     ]
    }
   ],
   "source": [
    "g.BFS(\"a\")"
   ]
  },
  {
   "cell_type": "code",
   "execution_count": 71,
   "metadata": {},
   "outputs": [
    {
     "name": "stdout",
     "output_type": "stream",
     "text": [
      "a m k c f e g i h b d "
     ]
    }
   ],
   "source": [
    "g.DFS(\"a\")"
   ]
  },
  {
   "cell_type": "code",
   "execution_count": 73,
   "metadata": {},
   "outputs": [],
   "source": [
    "graph = {\n",
    "  '5' : ['3','7'],\n",
    "  '3' : ['2', '4'],\n",
    "  '7' : ['8'],\n",
    "  '2' : [],\n",
    "  '4' : ['8'],\n",
    "  '8' : []\n",
    "}"
   ]
  },
  {
   "cell_type": "code",
   "execution_count": 74,
   "metadata": {},
   "outputs": [
    {
     "name": "stdout",
     "output_type": "stream",
     "text": [
      "5 7 8 3 4 2 "
     ]
    }
   ],
   "source": [
    "g.graph_dict = graph\n",
    "g.DFS('5')"
   ]
  },
  {
   "cell_type": "code",
   "execution_count": null,
   "metadata": {},
   "outputs": [],
   "source": []
  },
  {
   "cell_type": "code",
   "execution_count": 77,
   "metadata": {},
   "outputs": [
    {
     "name": "stdout",
     "output_type": "stream",
     "text": [
      "['A', 'M', 'K', 'C', 'G', 'I', 'H', 'F', 'E', 'B', 'D']\n"
     ]
    }
   ],
   "source": [
    " Graph = {}\n",
    "Graph['A'] = ['B', 'C',\"M\"]\n",
    "Graph['M'] = ['K']\n",
    "Graph['B'] = ['D']\n",
    "Graph['C'] = ['E', 'F', 'G']\n",
    "Graph['G'] = ['H', 'I']\n",
    "\n",
    "#            A\n",
    "#          /   \\\n",
    "#         C     B\n",
    "#      /  |  \\    \\\n",
    "#     G   E   F    D\n",
    "#    / \\\n",
    "#   H   I \n",
    "  \n",
    "\n",
    "def bfs(Graph):\n",
    "    first = \"C\"#list(Graph.keys())[0]\n",
    "    Queue = [first]\n",
    "    visited = []\n",
    "    while(Queue):\n",
    "        a = Queue[0]\n",
    "        visited.append(a)\n",
    "        if(a in Graph):\n",
    "            for value in Graph[a]:\n",
    "                if(value not in visited):\n",
    "                    Queue.append(value)\n",
    "        Queue.pop(0)\n",
    "    print(visited)\n",
    "\n",
    "def dfs(Graph):\n",
    "    Stack = []\n",
    "    first = \"A\"#list(Graph.keys())[0]\n",
    "    Stack.append(first)\n",
    "    visited = []\n",
    "\n",
    "    while(Stack):\n",
    "        vertex = Stack.pop()\n",
    "        if vertex in visited:\n",
    "            continue\n",
    "        visited.append(vertex)\n",
    "        if vertex in Graph:\n",
    "            for neighbor in Graph[vertex]:\n",
    "                Stack.append(neighbor)\n",
    "\n",
    "    print(visited)\n",
    "\n",
    "\n",
    "\n",
    "dfs(Graph)"
   ]
  },
  {
   "cell_type": "markdown",
   "metadata": {},
   "source": [
    "# menu driven"
   ]
  },
  {
   "cell_type": "code",
   "execution_count": 78,
   "metadata": {},
   "outputs": [],
   "source": [
    "def menu_driven():\n",
    "    while True:\n",
    "        print(\"1. Add an edge\")\n",
    "        print(\"2. BFS\")\n",
    "        print(\"3. DFS\")\n",
    "        print(\"4. Exit\")\n",
    "        choice = int(input(\"Enter your choice: \"))\n",
    "        if choice == 1:\n",
    "            u = int(input(\"Enter the first vertex: \"))\n",
    "            v = int(input(\"Enter the second vertex: \"))\n",
    "            g.addEdge(u, v)\n",
    "        elif choice == 2:\n",
    "            s = int(input(\"Enter the starting vertex: \"))\n",
    "            g.BFS(s)\n",
    "        elif choice == 3:\n",
    "            s = int(input(\"Enter the starting vertex: \"))\n",
    "            g.DFS(s)\n",
    "        elif choice == 4:\n",
    "            break\n",
    "        else:\n",
    "            print(\"Wrong choice\")"
   ]
  },
  {
   "cell_type": "code",
   "execution_count": null,
   "metadata": {},
   "outputs": [],
   "source": [
    "menu_driven()"
   ]
  }
 ],
 "metadata": {
  "interpreter": {
   "hash": "63fd5069d213b44bf678585dea6b12cceca9941eaf7f819626cde1f2670de90d"
  },
  "kernelspec": {
   "display_name": "Python 3.9.2 64-bit",
   "language": "python",
   "name": "python3"
  },
  "language_info": {
   "codemirror_mode": {
    "name": "ipython",
    "version": 3
   },
   "file_extension": ".py",
   "mimetype": "text/x-python",
   "name": "python",
   "nbconvert_exporter": "python",
   "pygments_lexer": "ipython3",
   "version": "3.9.2"
  },
  "orig_nbformat": 4
 },
 "nbformat": 4,
 "nbformat_minor": 2
}
