{
 "cells": [
  {
   "cell_type": "code",
   "execution_count": 77,
   "metadata": {},
   "outputs": [],
   "source": [
    "class graph:\n",
    "\tdef __init__(self):\n",
    "\t\tself.graph_dict =  {}\n",
    "\t\t \n",
    "\tdef addEdge(self,u,v):\n",
    "\t\tif u not in self.graph_dict:\n",
    "\t\t\tself.graph_dict[u] = [v]\n",
    "\t\telse:\n",
    "\t\t\tself.graph_dict[u].append(v)\n",
    "\t\tif v not in self.graph_dict:\n",
    "\t\t\tself.graph_dict[v] = []\n",
    "\t\tprint(self.graph_dict)\n",
    "\n",
    "\tdef BFS(self, s):\n",
    "\t\tvisited_nodes = [0] * (max(self.graph_dict) + 1)\n",
    "\t\tqueue = []\n",
    "\t\tqueue.append(s)\n",
    "\t\tvisited_nodes[s] = 1\n",
    "\t\twhile queue:\n",
    "\t\t\ts = queue.pop(0)\n",
    "\t\t\tprint (s, end = \" \")\n",
    "\t\t\tfor i in self.graph_dict[s]:\n",
    "\t\t\t\tif visited_nodes[i] == 0:\n",
    "\t\t\t\t\tqueue.append(i)\n",
    "\t\t\t\t\tvisited_nodes[i] = 1\n",
    "\n",
    "\tdef DFS(self, s):\n",
    "\t\tvisited_nodes = [0] * (max(self.graph_dict) + 1)\n",
    "\t\tstack = []\n",
    "\t\tstack.append(s)\n",
    "\t\tvisited_nodes[s] = 1\n",
    "\n",
    "\t\twhile stack:\n",
    "\t\t\ts = stack.pop()\n",
    "\t\t\tprint (s, end = \" \")\n",
    "\t\t\tfor i in self.graph_dict[s]:\n",
    "\t\t\t\tif visited_nodes[i] == 0:\n",
    "\t\t\t\t\tstack.append(i)\n",
    "\t\t\t\t\tvisited_nodes[i] = 1"
   ]
  },
  {
   "cell_type": "code",
   "execution_count": 78,
   "metadata": {},
   "outputs": [],
   "source": [
    "def menu_driven():\n",
    "    while True:\n",
    "        print(\"1. Add an edge\")\n",
    "        print(\"2. BFS\")\n",
    "        print(\"3. DFS\")\n",
    "        print(\"4. Exit\")\n",
    "        choice = int(input(\"Enter your choice: \"))\n",
    "        if choice == 1:\n",
    "            u = int(input(\"Enter the first vertex: \"))\n",
    "            v = int(input(\"Enter the second vertex: \"))\n",
    "            g.addEdge(u, v)\n",
    "        elif choice == 2:\n",
    "            s = int(input(\"Enter the starting vertex: \"))\n",
    "            g.BFS(s)\n",
    "        elif choice == 3:\n",
    "            s = int(input(\"Enter the starting vertex: \"))\n",
    "            g.DFS(s)\n",
    "        elif choice == 4:\n",
    "            break\n",
    "        else:\n",
    "            print(\"Wrong choice\")"
   ]
  },
  {
   "cell_type": "code",
   "execution_count": null,
   "metadata": {},
   "outputs": [],
   "source": [
    "menu_driven()"
   ]
  }
 ],
 "metadata": {
  "interpreter": {
   "hash": "63fd5069d213b44bf678585dea6b12cceca9941eaf7f819626cde1f2670de90d"
  },
  "kernelspec": {
   "display_name": "Python 3.9.2 64-bit",
   "language": "python",
   "name": "python3"
  },
  "language_info": {
   "codemirror_mode": {
    "name": "ipython",
    "version": 3
   },
   "file_extension": ".py",
   "mimetype": "text/x-python",
   "name": "python",
   "nbconvert_exporter": "python",
   "pygments_lexer": "ipython3",
   "version": "3.9.2"
  },
  "orig_nbformat": 4
 },
 "nbformat": 4,
 "nbformat_minor": 2
}
